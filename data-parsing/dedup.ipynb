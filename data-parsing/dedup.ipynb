{
 "cells": [
  {
   "cell_type": "code",
   "execution_count": 18,
   "metadata": {},
   "outputs": [],
   "source": [
    "import pandas as pd\n",
    "pd.options.display.float_format = '{:.2f}'.format"
   ]
  },
  {
   "cell_type": "code",
   "execution_count": 19,
   "metadata": {
    "scrolled": true
   },
   "outputs": [
    {
     "data": {
      "text/html": [
       "<div>\n",
       "<style scoped>\n",
       "    .dataframe tbody tr th:only-of-type {\n",
       "        vertical-align: middle;\n",
       "    }\n",
       "\n",
       "    .dataframe tbody tr th {\n",
       "        vertical-align: top;\n",
       "    }\n",
       "\n",
       "    .dataframe thead th {\n",
       "        text-align: right;\n",
       "    }\n",
       "</style>\n",
       "<table border=\"1\" class=\"dataframe\">\n",
       "  <thead>\n",
       "    <tr style=\"text-align: right;\">\n",
       "      <th></th>\n",
       "      <th>mmsi</th>\n",
       "      <th>timestamp</th>\n",
       "      <th>distance_from_shore</th>\n",
       "      <th>distance_from_port</th>\n",
       "      <th>speed</th>\n",
       "      <th>course</th>\n",
       "      <th>lat</th>\n",
       "      <th>lon</th>\n",
       "      <th>is_fishing</th>\n",
       "      <th>source</th>\n",
       "    </tr>\n",
       "  </thead>\n",
       "  <tbody>\n",
       "    <tr>\n",
       "      <th>0</th>\n",
       "      <td>7572518792420.00</td>\n",
       "      <td>1347663871.00</td>\n",
       "      <td>0.00</td>\n",
       "      <td>36054.62</td>\n",
       "      <td>0.00</td>\n",
       "      <td>0.00</td>\n",
       "      <td>42.80</td>\n",
       "      <td>-8.94</td>\n",
       "      <td>-1.00</td>\n",
       "      <td>gfw</td>\n",
       "    </tr>\n",
       "    <tr>\n",
       "      <th>1</th>\n",
       "      <td>7572518792420.00</td>\n",
       "      <td>1348056426.00</td>\n",
       "      <td>0.00</td>\n",
       "      <td>36054.62</td>\n",
       "      <td>0.00</td>\n",
       "      <td>0.00</td>\n",
       "      <td>42.80</td>\n",
       "      <td>-8.95</td>\n",
       "      <td>-1.00</td>\n",
       "      <td>gfw</td>\n",
       "    </tr>\n",
       "    <tr>\n",
       "      <th>2</th>\n",
       "      <td>7572518792420.00</td>\n",
       "      <td>1350409469.00</td>\n",
       "      <td>0.00</td>\n",
       "      <td>90970.30</td>\n",
       "      <td>0.00</td>\n",
       "      <td>198.20</td>\n",
       "      <td>43.11</td>\n",
       "      <td>-9.22</td>\n",
       "      <td>-1.00</td>\n",
       "      <td>gfw</td>\n",
       "    </tr>\n",
       "    <tr>\n",
       "      <th>3</th>\n",
       "      <td>7572518792420.00</td>\n",
       "      <td>1350410191.00</td>\n",
       "      <td>0.00</td>\n",
       "      <td>90970.30</td>\n",
       "      <td>0.00</td>\n",
       "      <td>186.90</td>\n",
       "      <td>43.11</td>\n",
       "      <td>-9.22</td>\n",
       "      <td>-1.00</td>\n",
       "      <td>gfw</td>\n",
       "    </tr>\n",
       "    <tr>\n",
       "      <th>4</th>\n",
       "      <td>7572518792420.00</td>\n",
       "      <td>1350410968.00</td>\n",
       "      <td>0.00</td>\n",
       "      <td>90970.30</td>\n",
       "      <td>0.00</td>\n",
       "      <td>190.50</td>\n",
       "      <td>43.11</td>\n",
       "      <td>-9.22</td>\n",
       "      <td>-1.00</td>\n",
       "      <td>gfw</td>\n",
       "    </tr>\n",
       "  </tbody>\n",
       "</table>\n",
       "</div>"
      ],
      "text/plain": [
       "              mmsi     timestamp  distance_from_shore  distance_from_port  \\\n",
       "0 7572518792420.00 1347663871.00                 0.00            36054.62   \n",
       "1 7572518792420.00 1348056426.00                 0.00            36054.62   \n",
       "2 7572518792420.00 1350409469.00                 0.00            90970.30   \n",
       "3 7572518792420.00 1350410191.00                 0.00            90970.30   \n",
       "4 7572518792420.00 1350410968.00                 0.00            90970.30   \n",
       "\n",
       "   speed  course   lat   lon  is_fishing source  \n",
       "0   0.00    0.00 42.80 -8.94       -1.00    gfw  \n",
       "1   0.00    0.00 42.80 -8.95       -1.00    gfw  \n",
       "2   0.00  198.20 43.11 -9.22       -1.00    gfw  \n",
       "3   0.00  186.90 43.11 -9.22       -1.00    gfw  \n",
       "4   0.00  190.50 43.11 -9.22       -1.00    gfw  "
      ]
     },
     "execution_count": 19,
     "metadata": {},
     "output_type": "execute_result"
    }
   ],
   "source": [
    "fixedGearFile = \"GFW-gear/fixed_gear.csv\"\n",
    "fixedGeardf = pd.read_csv(fixedGearFile)\n",
    "fixedGeardf.head()"
   ]
  },
  {
   "cell_type": "code",
   "execution_count": 20,
   "metadata": {},
   "outputs": [
    {
     "data": {
      "text/plain": [
       "1559137"
      ]
     },
     "execution_count": 20,
     "metadata": {},
     "output_type": "execute_result"
    }
   ],
   "source": [
    "len(fixedGeardf)"
   ]
  },
  {
   "cell_type": "code",
   "execution_count": 21,
   "metadata": {},
   "outputs": [
    {
     "data": {
      "text/html": [
       "<div>\n",
       "<style scoped>\n",
       "    .dataframe tbody tr th:only-of-type {\n",
       "        vertical-align: middle;\n",
       "    }\n",
       "\n",
       "    .dataframe tbody tr th {\n",
       "        vertical-align: top;\n",
       "    }\n",
       "\n",
       "    .dataframe thead th {\n",
       "        text-align: right;\n",
       "    }\n",
       "</style>\n",
       "<table border=\"1\" class=\"dataframe\">\n",
       "  <thead>\n",
       "    <tr style=\"text-align: right;\">\n",
       "      <th></th>\n",
       "      <th>mmsi</th>\n",
       "      <th>timestamp</th>\n",
       "      <th>distance_from_shore</th>\n",
       "      <th>distance_from_port</th>\n",
       "      <th>speed</th>\n",
       "      <th>course</th>\n",
       "      <th>lat</th>\n",
       "      <th>lon</th>\n",
       "      <th>is_fishing</th>\n",
       "      <th>source</th>\n",
       "    </tr>\n",
       "  </thead>\n",
       "  <tbody>\n",
       "    <tr>\n",
       "      <th>0</th>\n",
       "      <td>7572518792420.00</td>\n",
       "      <td>1347663871.00</td>\n",
       "      <td>0.00</td>\n",
       "      <td>36054.62</td>\n",
       "      <td>0.00</td>\n",
       "      <td>0.00</td>\n",
       "      <td>42.80</td>\n",
       "      <td>-8.94</td>\n",
       "      <td>-1.00</td>\n",
       "      <td>gfw</td>\n",
       "    </tr>\n",
       "    <tr>\n",
       "      <th>1</th>\n",
       "      <td>7572518792420.00</td>\n",
       "      <td>1348056426.00</td>\n",
       "      <td>0.00</td>\n",
       "      <td>36054.62</td>\n",
       "      <td>0.00</td>\n",
       "      <td>0.00</td>\n",
       "      <td>42.80</td>\n",
       "      <td>-8.95</td>\n",
       "      <td>-1.00</td>\n",
       "      <td>gfw</td>\n",
       "    </tr>\n",
       "    <tr>\n",
       "      <th>2</th>\n",
       "      <td>7572518792420.00</td>\n",
       "      <td>1350409469.00</td>\n",
       "      <td>0.00</td>\n",
       "      <td>90970.30</td>\n",
       "      <td>0.00</td>\n",
       "      <td>198.20</td>\n",
       "      <td>43.11</td>\n",
       "      <td>-9.22</td>\n",
       "      <td>-1.00</td>\n",
       "      <td>gfw</td>\n",
       "    </tr>\n",
       "    <tr>\n",
       "      <th>3</th>\n",
       "      <td>7572518792420.00</td>\n",
       "      <td>1350410191.00</td>\n",
       "      <td>0.00</td>\n",
       "      <td>90970.30</td>\n",
       "      <td>0.00</td>\n",
       "      <td>186.90</td>\n",
       "      <td>43.11</td>\n",
       "      <td>-9.22</td>\n",
       "      <td>-1.00</td>\n",
       "      <td>gfw</td>\n",
       "    </tr>\n",
       "    <tr>\n",
       "      <th>4</th>\n",
       "      <td>7572518792420.00</td>\n",
       "      <td>1350410968.00</td>\n",
       "      <td>0.00</td>\n",
       "      <td>90970.30</td>\n",
       "      <td>0.00</td>\n",
       "      <td>190.50</td>\n",
       "      <td>43.11</td>\n",
       "      <td>-9.22</td>\n",
       "      <td>-1.00</td>\n",
       "      <td>gfw</td>\n",
       "    </tr>\n",
       "  </tbody>\n",
       "</table>\n",
       "</div>"
      ],
      "text/plain": [
       "              mmsi     timestamp  distance_from_shore  distance_from_port  \\\n",
       "0 7572518792420.00 1347663871.00                 0.00            36054.62   \n",
       "1 7572518792420.00 1348056426.00                 0.00            36054.62   \n",
       "2 7572518792420.00 1350409469.00                 0.00            90970.30   \n",
       "3 7572518792420.00 1350410191.00                 0.00            90970.30   \n",
       "4 7572518792420.00 1350410968.00                 0.00            90970.30   \n",
       "\n",
       "   speed  course   lat   lon  is_fishing source  \n",
       "0   0.00    0.00 42.80 -8.94       -1.00    gfw  \n",
       "1   0.00    0.00 42.80 -8.95       -1.00    gfw  \n",
       "2   0.00  198.20 43.11 -9.22       -1.00    gfw  \n",
       "3   0.00  186.90 43.11 -9.22       -1.00    gfw  \n",
       "4   0.00  190.50 43.11 -9.22       -1.00    gfw  "
      ]
     },
     "execution_count": 21,
     "metadata": {},
     "output_type": "execute_result"
    }
   ],
   "source": [
    "fixedGeardf.drop_duplicates(subset=['mmsi', 'lat', 'lon', 'is_fishing'], ignore_index=True, inplace=True)\n",
    "fixedGeardf.head()"
   ]
  },
  {
   "cell_type": "code",
   "execution_count": 22,
   "metadata": {},
   "outputs": [
    {
     "data": {
      "text/plain": [
       "934229"
      ]
     },
     "execution_count": 22,
     "metadata": {},
     "output_type": "execute_result"
    }
   ],
   "source": [
    "len(fixedGeardf)"
   ]
  },
  {
   "cell_type": "code",
   "execution_count": 23,
   "metadata": {},
   "outputs": [
    {
     "data": {
      "text/plain": [
       "gfw                    836230\n",
       "false_positives         65900\n",
       "dalhousie_longliner     32099\n",
       "Name: source, dtype: int64"
      ]
     },
     "execution_count": 23,
     "metadata": {},
     "output_type": "execute_result"
    }
   ],
   "source": [
    "fixedGeardf['source'].value_counts()"
   ]
  },
  {
   "cell_type": "code",
   "execution_count": 24,
   "metadata": {},
   "outputs": [],
   "source": [
    "fixedGeardf.drop(fixedGeardf[fixedGeardf['source'] == 'false_positives'].index, inplace = True)"
   ]
  },
  {
   "cell_type": "code",
   "execution_count": 25,
   "metadata": {},
   "outputs": [
    {
     "data": {
      "text/plain": [
       "868329"
      ]
     },
     "execution_count": 25,
     "metadata": {},
     "output_type": "execute_result"
    }
   ],
   "source": [
    "len(fixedGeardf)"
   ]
  },
  {
   "cell_type": "code",
   "execution_count": 26,
   "metadata": {},
   "outputs": [
    {
     "data": {
      "text/plain": [
       "34"
      ]
     },
     "execution_count": 26,
     "metadata": {},
     "output_type": "execute_result"
    }
   ],
   "source": [
    "boats = fixedGeardf['mmsi'].unique()\n",
    "len(boats)"
   ]
  },
  {
   "cell_type": "code",
   "execution_count": 27,
   "metadata": {},
   "outputs": [
    {
     "data": {
      "text/plain": [
       "42314208291274.00     122314\n",
       "261683006747890.00     79810\n",
       "106150487182509.00     64149\n",
       "245558512447234.00     40403\n",
       "103786638076601.00     37935\n",
       "149732026109185.00     37270\n",
       "280291299563683.00     32099\n",
       "130528914446151.00     31749\n",
       "7572518792420.00       31719\n",
       "273352002611600.00     29807\n",
       "262522671777909.00     28843\n",
       "139028728648447.00     28719\n",
       "30054937091173.00      28635\n",
       "203685766228826.00     27180\n",
       "185079710227621.00     26973\n",
       "225986789154693.00     26099\n",
       "178858950138911.00     25399\n",
       "184922007900201.00     24561\n",
       "88780175381729.00      12951\n",
       "230452925672863.00     12598\n",
       "85022770160929.00      12523\n",
       "205198558017191.00     12446\n",
       "10759394346704.00      12321\n",
       "59112496180970.00      10869\n",
       "126605727399747.00     10065\n",
       "30581813007233.00       9857\n",
       "81653757071585.00       9834\n",
       "136929052181490.00      9357\n",
       "28144259049658.00       8697\n",
       "181792856256929.00      6220\n",
       "271648488454992.00      5328\n",
       "94745481952721.00       4725\n",
       "53148833486047.00       4392\n",
       "194716368060295.00      2482\n",
       "Name: mmsi, dtype: int64"
      ]
     },
     "execution_count": 27,
     "metadata": {},
     "output_type": "execute_result"
    }
   ],
   "source": [
    "fixedGeardf['mmsi'].value_counts()"
   ]
  },
  {
   "cell_type": "code",
   "execution_count": 11,
   "metadata": {},
   "outputs": [
    {
     "data": {
      "text/html": [
       "<div>\n",
       "<style scoped>\n",
       "    .dataframe tbody tr th:only-of-type {\n",
       "        vertical-align: middle;\n",
       "    }\n",
       "\n",
       "    .dataframe tbody tr th {\n",
       "        vertical-align: top;\n",
       "    }\n",
       "\n",
       "    .dataframe thead th {\n",
       "        text-align: right;\n",
       "    }\n",
       "</style>\n",
       "<table border=\"1\" class=\"dataframe\">\n",
       "  <thead>\n",
       "    <tr style=\"text-align: right;\">\n",
       "      <th></th>\n",
       "      <th>mmsi</th>\n",
       "      <th>timestamp</th>\n",
       "      <th>distance_from_shore</th>\n",
       "      <th>distance_from_port</th>\n",
       "      <th>speed</th>\n",
       "      <th>course</th>\n",
       "      <th>lat</th>\n",
       "      <th>lon</th>\n",
       "      <th>is_fishing</th>\n",
       "      <th>source</th>\n",
       "    </tr>\n",
       "  </thead>\n",
       "  <tbody>\n",
       "    <tr>\n",
       "      <th>571234</th>\n",
       "      <td>194716368060295.00</td>\n",
       "      <td>1425817634.00</td>\n",
       "      <td>0.00</td>\n",
       "      <td>2236.01</td>\n",
       "      <td>6.60</td>\n",
       "      <td>318.90</td>\n",
       "      <td>53.93</td>\n",
       "      <td>-3.00</td>\n",
       "      <td>-1.00</td>\n",
       "      <td>gfw</td>\n",
       "    </tr>\n",
       "    <tr>\n",
       "      <th>571235</th>\n",
       "      <td>194716368060295.00</td>\n",
       "      <td>1425818503.00</td>\n",
       "      <td>4999.88</td>\n",
       "      <td>7279.93</td>\n",
       "      <td>7.70</td>\n",
       "      <td>353.20</td>\n",
       "      <td>53.95</td>\n",
       "      <td>-3.03</td>\n",
       "      <td>-1.00</td>\n",
       "      <td>gfw</td>\n",
       "    </tr>\n",
       "    <tr>\n",
       "      <th>571236</th>\n",
       "      <td>194716368060295.00</td>\n",
       "      <td>1425819284.00</td>\n",
       "      <td>6324.40</td>\n",
       "      <td>9219.32</td>\n",
       "      <td>5.80</td>\n",
       "      <td>253.60</td>\n",
       "      <td>53.96</td>\n",
       "      <td>-3.06</td>\n",
       "      <td>-1.00</td>\n",
       "      <td>gfw</td>\n",
       "    </tr>\n",
       "    <tr>\n",
       "      <th>571237</th>\n",
       "      <td>194716368060295.00</td>\n",
       "      <td>1428462692.00</td>\n",
       "      <td>16124.12</td>\n",
       "      <td>80446.77</td>\n",
       "      <td>5.40</td>\n",
       "      <td>1.40</td>\n",
       "      <td>52.90</td>\n",
       "      <td>-4.85</td>\n",
       "      <td>-1.00</td>\n",
       "      <td>gfw</td>\n",
       "    </tr>\n",
       "    <tr>\n",
       "      <th>571238</th>\n",
       "      <td>194716368060295.00</td>\n",
       "      <td>1428463715.00</td>\n",
       "      <td>17691.37</td>\n",
       "      <td>76842.11</td>\n",
       "      <td>5.40</td>\n",
       "      <td>10.90</td>\n",
       "      <td>52.92</td>\n",
       "      <td>-4.85</td>\n",
       "      <td>-1.00</td>\n",
       "      <td>gfw</td>\n",
       "    </tr>\n",
       "  </tbody>\n",
       "</table>\n",
       "</div>"
      ],
      "text/plain": [
       "                     mmsi     timestamp  distance_from_shore  \\\n",
       "571234 194716368060295.00 1425817634.00                 0.00   \n",
       "571235 194716368060295.00 1425818503.00              4999.88   \n",
       "571236 194716368060295.00 1425819284.00              6324.40   \n",
       "571237 194716368060295.00 1428462692.00             16124.12   \n",
       "571238 194716368060295.00 1428463715.00             17691.37   \n",
       "\n",
       "        distance_from_port  speed  course   lat   lon  is_fishing source  \n",
       "571234             2236.01   6.60  318.90 53.93 -3.00       -1.00    gfw  \n",
       "571235             7279.93   7.70  353.20 53.95 -3.03       -1.00    gfw  \n",
       "571236             9219.32   5.80  253.60 53.96 -3.06       -1.00    gfw  \n",
       "571237            80446.77   5.40    1.40 52.90 -4.85       -1.00    gfw  \n",
       "571238            76842.11   5.40   10.90 52.92 -4.85       -1.00    gfw  "
      ]
     },
     "execution_count": 11,
     "metadata": {},
     "output_type": "execute_result"
    }
   ],
   "source": [
    "# test run\n",
    "boat36 = fixedGeardf.loc[fixedGeardf['mmsi'] == 194716368060295.00]\n",
    "boat36.head()"
   ]
  },
  {
   "cell_type": "code",
   "execution_count": 12,
   "metadata": {},
   "outputs": [
    {
     "data": {
      "text/plain": [
       "2482"
      ]
     },
     "execution_count": 12,
     "metadata": {},
     "output_type": "execute_result"
    }
   ],
   "source": [
    "len(boat36)"
   ]
  },
  {
   "cell_type": "code",
   "execution_count": 13,
   "metadata": {},
   "outputs": [],
   "source": [
    "boat36.to_json(r'../data/fixed_gear_36.json', orient='records')"
   ]
  },
  {
   "cell_type": "code",
   "execution_count": 15,
   "metadata": {},
   "outputs": [
    {
     "data": {
      "text/plain": [
       "array([7.57251879e+12, 1.07593943e+13, 2.81442590e+13, 3.00549371e+13,\n",
       "       3.05818130e+13, 4.23142083e+13, 5.31488335e+13, 5.91124962e+13,\n",
       "       8.16537571e+13, 8.50227702e+13, 8.87801754e+13, 9.47454820e+13,\n",
       "       1.03786638e+14, 1.06150487e+14, 1.26605727e+14, 1.30528914e+14,\n",
       "       1.36929052e+14, 1.39028729e+14, 1.49732026e+14, 1.78858950e+14,\n",
       "       1.81792856e+14, 1.84922008e+14, 1.85079710e+14, 1.94716368e+14,\n",
       "       2.03685766e+14, 2.05198558e+14, 2.25986789e+14, 2.30452926e+14,\n",
       "       2.45558512e+14, 2.61683007e+14, 2.62522672e+14, 2.71648488e+14,\n",
       "       2.73352003e+14, 2.80291300e+14])"
      ]
     },
     "execution_count": 15,
     "metadata": {},
     "output_type": "execute_result"
    }
   ],
   "source": []
  },
  {
   "cell_type": "code",
   "execution_count": 28,
   "metadata": {},
   "outputs": [
    {
     "name": "stdout",
     "output_type": "stream",
     "text": [
      "file 1 complete\n",
      "file 2 complete\n",
      "file 3 complete\n",
      "file 4 complete\n",
      "file 5 complete\n",
      "file 6 complete\n",
      "file 7 complete\n",
      "file 8 complete\n",
      "file 9 complete\n",
      "file 10 complete\n",
      "file 11 complete\n",
      "file 12 complete\n",
      "file 13 complete\n",
      "file 14 complete\n",
      "file 15 complete\n",
      "file 16 complete\n",
      "file 17 complete\n",
      "file 18 complete\n",
      "file 19 complete\n",
      "file 20 complete\n",
      "file 21 complete\n",
      "file 22 complete\n",
      "file 23 complete\n",
      "file 24 complete\n",
      "file 25 complete\n",
      "file 26 complete\n",
      "file 27 complete\n",
      "file 28 complete\n",
      "file 29 complete\n",
      "file 30 complete\n",
      "file 31 complete\n",
      "file 32 complete\n",
      "file 33 complete\n",
      "file 34 complete\n"
     ]
    }
   ],
   "source": [
    "dasBoot = 1\n",
    "for boat in boats:\n",
    "    newboat = fixedGeardf.loc[fixedGeardf['mmsi'] == boat]\n",
    "    newboat.to_json(f'../data/fixed_gear{dasBoot}.json', orient='records')\n",
    "    print(f'file {dasBoot} complete')\n",
    "    dasBoot += 1"
   ]
  },
  {
   "cell_type": "code",
   "execution_count": null,
   "metadata": {},
   "outputs": [],
   "source": []
  }
 ],
 "metadata": {
  "kernelspec": {
   "display_name": "Python 3",
   "language": "python",
   "name": "python3"
  },
  "language_info": {
   "codemirror_mode": {
    "name": "ipython",
    "version": 3
   },
   "file_extension": ".py",
   "mimetype": "text/x-python",
   "name": "python",
   "nbconvert_exporter": "python",
   "pygments_lexer": "ipython3",
   "version": "3.8.3"
  }
 },
 "nbformat": 4,
 "nbformat_minor": 4
}
