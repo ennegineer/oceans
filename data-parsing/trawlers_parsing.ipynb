{
 "cells": [
  {
   "cell_type": "code",
   "execution_count": 1,
   "metadata": {},
   "outputs": [],
   "source": [
    "import pandas as pd\n",
    "pd.options.display.float_format = '{:.2f}'.format"
   ]
  },
  {
   "cell_type": "code",
   "execution_count": 63,
   "metadata": {},
   "outputs": [
    {
     "data": {
      "text/html": [
       "<div>\n",
       "<style scoped>\n",
       "    .dataframe tbody tr th:only-of-type {\n",
       "        vertical-align: middle;\n",
       "    }\n",
       "\n",
       "    .dataframe tbody tr th {\n",
       "        vertical-align: top;\n",
       "    }\n",
       "\n",
       "    .dataframe thead th {\n",
       "        text-align: right;\n",
       "    }\n",
       "</style>\n",
       "<table border=\"1\" class=\"dataframe\">\n",
       "  <thead>\n",
       "    <tr style=\"text-align: right;\">\n",
       "      <th></th>\n",
       "      <th>mmsi</th>\n",
       "      <th>timestamp</th>\n",
       "      <th>distance_from_shore</th>\n",
       "      <th>distance_from_port</th>\n",
       "      <th>speed</th>\n",
       "      <th>course</th>\n",
       "      <th>lat</th>\n",
       "      <th>lon</th>\n",
       "      <th>is_fishing</th>\n",
       "      <th>source</th>\n",
       "    </tr>\n",
       "  </thead>\n",
       "  <tbody>\n",
       "    <tr>\n",
       "      <th>0</th>\n",
       "      <td>18483455048454.00</td>\n",
       "      <td>1340882344.00</td>\n",
       "      <td>0.00</td>\n",
       "      <td>2236.01</td>\n",
       "      <td>0.00</td>\n",
       "      <td>0.00</td>\n",
       "      <td>28.97</td>\n",
       "      <td>-13.54</td>\n",
       "      <td>-1.00</td>\n",
       "      <td>gfw</td>\n",
       "    </tr>\n",
       "    <tr>\n",
       "      <th>1</th>\n",
       "      <td>18483455048454.00</td>\n",
       "      <td>1340884324.00</td>\n",
       "      <td>0.00</td>\n",
       "      <td>2236.01</td>\n",
       "      <td>0.00</td>\n",
       "      <td>125.20</td>\n",
       "      <td>28.97</td>\n",
       "      <td>-13.54</td>\n",
       "      <td>-1.00</td>\n",
       "      <td>gfw</td>\n",
       "    </tr>\n",
       "    <tr>\n",
       "      <th>2</th>\n",
       "      <td>18483455048454.00</td>\n",
       "      <td>1340884653.00</td>\n",
       "      <td>0.00</td>\n",
       "      <td>2236.01</td>\n",
       "      <td>0.00</td>\n",
       "      <td>0.00</td>\n",
       "      <td>28.97</td>\n",
       "      <td>-13.54</td>\n",
       "      <td>-1.00</td>\n",
       "      <td>gfw</td>\n",
       "    </tr>\n",
       "    <tr>\n",
       "      <th>3</th>\n",
       "      <td>18483455048454.00</td>\n",
       "      <td>1340887925.00</td>\n",
       "      <td>0.00</td>\n",
       "      <td>2236.01</td>\n",
       "      <td>0.00</td>\n",
       "      <td>0.00</td>\n",
       "      <td>28.97</td>\n",
       "      <td>-13.54</td>\n",
       "      <td>-1.00</td>\n",
       "      <td>gfw</td>\n",
       "    </tr>\n",
       "    <tr>\n",
       "      <th>4</th>\n",
       "      <td>18483455048454.00</td>\n",
       "      <td>1340925414.00</td>\n",
       "      <td>1999.95</td>\n",
       "      <td>2828.36</td>\n",
       "      <td>8.70</td>\n",
       "      <td>203.10</td>\n",
       "      <td>28.93</td>\n",
       "      <td>-13.54</td>\n",
       "      <td>-1.00</td>\n",
       "      <td>gfw</td>\n",
       "    </tr>\n",
       "  </tbody>\n",
       "</table>\n",
       "</div>"
      ],
      "text/plain": [
       "               mmsi     timestamp  distance_from_shore  distance_from_port  \\\n",
       "0 18483455048454.00 1340882344.00                 0.00             2236.01   \n",
       "1 18483455048454.00 1340884324.00                 0.00             2236.01   \n",
       "2 18483455048454.00 1340884653.00                 0.00             2236.01   \n",
       "3 18483455048454.00 1340887925.00                 0.00             2236.01   \n",
       "4 18483455048454.00 1340925414.00              1999.95             2828.36   \n",
       "\n",
       "   speed  course   lat    lon  is_fishing source  \n",
       "0   0.00    0.00 28.97 -13.54       -1.00    gfw  \n",
       "1   0.00  125.20 28.97 -13.54       -1.00    gfw  \n",
       "2   0.00    0.00 28.97 -13.54       -1.00    gfw  \n",
       "3   0.00    0.00 28.97 -13.54       -1.00    gfw  \n",
       "4   8.70  203.10 28.93 -13.54       -1.00    gfw  "
      ]
     },
     "execution_count": 63,
     "metadata": {},
     "output_type": "execute_result"
    }
   ],
   "source": [
    "trawlerFile = \"GFW-gear/pole_and_line.csv\"\n",
    "trawlerdf = pd.read_csv(trawlerFile)\n",
    "trawlerdf.head()"
   ]
  },
  {
   "cell_type": "code",
   "execution_count": 64,
   "metadata": {},
   "outputs": [
    {
     "data": {
      "text/plain": [
       "161315"
      ]
     },
     "execution_count": 64,
     "metadata": {},
     "output_type": "execute_result"
    }
   ],
   "source": [
    "len(trawlerdf)"
   ]
  },
  {
   "cell_type": "code",
   "execution_count": 65,
   "metadata": {},
   "outputs": [
    {
     "data": {
      "text/html": [
       "<div>\n",
       "<style scoped>\n",
       "    .dataframe tbody tr th:only-of-type {\n",
       "        vertical-align: middle;\n",
       "    }\n",
       "\n",
       "    .dataframe tbody tr th {\n",
       "        vertical-align: top;\n",
       "    }\n",
       "\n",
       "    .dataframe thead th {\n",
       "        text-align: right;\n",
       "    }\n",
       "</style>\n",
       "<table border=\"1\" class=\"dataframe\">\n",
       "  <thead>\n",
       "    <tr style=\"text-align: right;\">\n",
       "      <th></th>\n",
       "      <th>mmsi</th>\n",
       "      <th>timestamp</th>\n",
       "      <th>distance_from_shore</th>\n",
       "      <th>distance_from_port</th>\n",
       "      <th>speed</th>\n",
       "      <th>course</th>\n",
       "      <th>lat</th>\n",
       "      <th>lon</th>\n",
       "      <th>is_fishing</th>\n",
       "      <th>source</th>\n",
       "    </tr>\n",
       "  </thead>\n",
       "  <tbody>\n",
       "    <tr>\n",
       "      <th>0</th>\n",
       "      <td>18483455048454.00</td>\n",
       "      <td>1340882344.00</td>\n",
       "      <td>0.00</td>\n",
       "      <td>2236.01</td>\n",
       "      <td>0.00</td>\n",
       "      <td>0.00</td>\n",
       "      <td>28.97</td>\n",
       "      <td>-13.54</td>\n",
       "      <td>-1.00</td>\n",
       "      <td>gfw</td>\n",
       "    </tr>\n",
       "    <tr>\n",
       "      <th>1</th>\n",
       "      <td>18483455048454.00</td>\n",
       "      <td>1340884324.00</td>\n",
       "      <td>0.00</td>\n",
       "      <td>2236.01</td>\n",
       "      <td>0.00</td>\n",
       "      <td>125.20</td>\n",
       "      <td>28.97</td>\n",
       "      <td>-13.54</td>\n",
       "      <td>-1.00</td>\n",
       "      <td>gfw</td>\n",
       "    </tr>\n",
       "    <tr>\n",
       "      <th>2</th>\n",
       "      <td>18483455048454.00</td>\n",
       "      <td>1340884653.00</td>\n",
       "      <td>0.00</td>\n",
       "      <td>2236.01</td>\n",
       "      <td>0.00</td>\n",
       "      <td>0.00</td>\n",
       "      <td>28.97</td>\n",
       "      <td>-13.54</td>\n",
       "      <td>-1.00</td>\n",
       "      <td>gfw</td>\n",
       "    </tr>\n",
       "    <tr>\n",
       "      <th>3</th>\n",
       "      <td>18483455048454.00</td>\n",
       "      <td>1340925414.00</td>\n",
       "      <td>1999.95</td>\n",
       "      <td>2828.36</td>\n",
       "      <td>8.70</td>\n",
       "      <td>203.10</td>\n",
       "      <td>28.93</td>\n",
       "      <td>-13.54</td>\n",
       "      <td>-1.00</td>\n",
       "      <td>gfw</td>\n",
       "    </tr>\n",
       "    <tr>\n",
       "      <th>4</th>\n",
       "      <td>18483455048454.00</td>\n",
       "      <td>1340936914.00</td>\n",
       "      <td>14317.47</td>\n",
       "      <td>16030.83</td>\n",
       "      <td>8.60</td>\n",
       "      <td>192.20</td>\n",
       "      <td>28.50</td>\n",
       "      <td>-13.70</td>\n",
       "      <td>-1.00</td>\n",
       "      <td>gfw</td>\n",
       "    </tr>\n",
       "  </tbody>\n",
       "</table>\n",
       "</div>"
      ],
      "text/plain": [
       "               mmsi     timestamp  distance_from_shore  distance_from_port  \\\n",
       "0 18483455048454.00 1340882344.00                 0.00             2236.01   \n",
       "1 18483455048454.00 1340884324.00                 0.00             2236.01   \n",
       "2 18483455048454.00 1340884653.00                 0.00             2236.01   \n",
       "3 18483455048454.00 1340925414.00              1999.95             2828.36   \n",
       "4 18483455048454.00 1340936914.00             14317.47            16030.83   \n",
       "\n",
       "   speed  course   lat    lon  is_fishing source  \n",
       "0   0.00    0.00 28.97 -13.54       -1.00    gfw  \n",
       "1   0.00  125.20 28.97 -13.54       -1.00    gfw  \n",
       "2   0.00    0.00 28.97 -13.54       -1.00    gfw  \n",
       "3   8.70  203.10 28.93 -13.54       -1.00    gfw  \n",
       "4   8.60  192.20 28.50 -13.70       -1.00    gfw  "
      ]
     },
     "execution_count": 65,
     "metadata": {},
     "output_type": "execute_result"
    }
   ],
   "source": [
    "trawlerdf.drop_duplicates(subset=['mmsi', 'lat', 'lon', 'is_fishing'], ignore_index=True, inplace=True)\n",
    "trawlerdf.head()"
   ]
  },
  {
   "cell_type": "code",
   "execution_count": 66,
   "metadata": {},
   "outputs": [
    {
     "data": {
      "text/plain": [
       "96178"
      ]
     },
     "execution_count": 66,
     "metadata": {},
     "output_type": "execute_result"
    }
   ],
   "source": [
    "len(trawlerdf)"
   ]
  },
  {
   "cell_type": "code",
   "execution_count": 67,
   "metadata": {},
   "outputs": [
    {
     "data": {
      "text/plain": [
       "gfw    96178\n",
       "Name: source, dtype: int64"
      ]
     },
     "execution_count": 67,
     "metadata": {},
     "output_type": "execute_result"
    }
   ],
   "source": [
    "trawlerdf['source'].value_counts()"
   ]
  },
  {
   "cell_type": "code",
   "execution_count": 54,
   "metadata": {},
   "outputs": [
    {
     "data": {
      "text/plain": [
       "10176671"
      ]
     },
     "execution_count": 54,
     "metadata": {},
     "output_type": "execute_result"
    }
   ],
   "source": [
    "trawlerdf.drop(trawlerdf[trawlerdf['source'] == 'false_positives'].index, inplace = True)\n",
    "len(trawlerdf)"
   ]
  },
  {
   "cell_type": "code",
   "execution_count": 70,
   "metadata": {},
   "outputs": [],
   "source": [
    "trawlerdf.drop('source', axis=1, inplace=True)"
   ]
  },
  {
   "cell_type": "code",
   "execution_count": 71,
   "metadata": {},
   "outputs": [
    {
     "data": {
      "text/html": [
       "<div>\n",
       "<style scoped>\n",
       "    .dataframe tbody tr th:only-of-type {\n",
       "        vertical-align: middle;\n",
       "    }\n",
       "\n",
       "    .dataframe tbody tr th {\n",
       "        vertical-align: top;\n",
       "    }\n",
       "\n",
       "    .dataframe thead th {\n",
       "        text-align: right;\n",
       "    }\n",
       "</style>\n",
       "<table border=\"1\" class=\"dataframe\">\n",
       "  <thead>\n",
       "    <tr style=\"text-align: right;\">\n",
       "      <th></th>\n",
       "      <th>mmsi</th>\n",
       "      <th>timestamp</th>\n",
       "      <th>speed</th>\n",
       "      <th>course</th>\n",
       "      <th>lat</th>\n",
       "      <th>lon</th>\n",
       "      <th>is_fishing</th>\n",
       "    </tr>\n",
       "  </thead>\n",
       "  <tbody>\n",
       "    <tr>\n",
       "      <th>0</th>\n",
       "      <td>18483455048454.00</td>\n",
       "      <td>1340882344.00</td>\n",
       "      <td>0.00</td>\n",
       "      <td>0.00</td>\n",
       "      <td>28.97</td>\n",
       "      <td>-13.54</td>\n",
       "      <td>-1.00</td>\n",
       "    </tr>\n",
       "    <tr>\n",
       "      <th>1</th>\n",
       "      <td>18483455048454.00</td>\n",
       "      <td>1340884324.00</td>\n",
       "      <td>0.00</td>\n",
       "      <td>125.20</td>\n",
       "      <td>28.97</td>\n",
       "      <td>-13.54</td>\n",
       "      <td>-1.00</td>\n",
       "    </tr>\n",
       "    <tr>\n",
       "      <th>2</th>\n",
       "      <td>18483455048454.00</td>\n",
       "      <td>1340884653.00</td>\n",
       "      <td>0.00</td>\n",
       "      <td>0.00</td>\n",
       "      <td>28.97</td>\n",
       "      <td>-13.54</td>\n",
       "      <td>-1.00</td>\n",
       "    </tr>\n",
       "    <tr>\n",
       "      <th>3</th>\n",
       "      <td>18483455048454.00</td>\n",
       "      <td>1340925414.00</td>\n",
       "      <td>8.70</td>\n",
       "      <td>203.10</td>\n",
       "      <td>28.93</td>\n",
       "      <td>-13.54</td>\n",
       "      <td>-1.00</td>\n",
       "    </tr>\n",
       "    <tr>\n",
       "      <th>4</th>\n",
       "      <td>18483455048454.00</td>\n",
       "      <td>1340936914.00</td>\n",
       "      <td>8.60</td>\n",
       "      <td>192.20</td>\n",
       "      <td>28.50</td>\n",
       "      <td>-13.70</td>\n",
       "      <td>-1.00</td>\n",
       "    </tr>\n",
       "  </tbody>\n",
       "</table>\n",
       "</div>"
      ],
      "text/plain": [
       "               mmsi     timestamp  speed  course   lat    lon  is_fishing\n",
       "0 18483455048454.00 1340882344.00   0.00    0.00 28.97 -13.54       -1.00\n",
       "1 18483455048454.00 1340884324.00   0.00  125.20 28.97 -13.54       -1.00\n",
       "2 18483455048454.00 1340884653.00   0.00    0.00 28.97 -13.54       -1.00\n",
       "3 18483455048454.00 1340925414.00   8.70  203.10 28.93 -13.54       -1.00\n",
       "4 18483455048454.00 1340936914.00   8.60  192.20 28.50 -13.70       -1.00"
      ]
     },
     "execution_count": 71,
     "metadata": {},
     "output_type": "execute_result"
    }
   ],
   "source": [
    "trawlerdf.head()"
   ]
  },
  {
   "cell_type": "raw",
   "metadata": {},
   "source": []
  },
  {
   "cell_type": "code",
   "execution_count": 72,
   "metadata": {},
   "outputs": [
    {
     "data": {
      "text/plain": [
       "6"
      ]
     },
     "execution_count": 72,
     "metadata": {},
     "output_type": "execute_result"
    }
   ],
   "source": [
    "trawlers = trawlerdf['mmsi'].unique()\n",
    "len(trawlers)"
   ]
  },
  {
   "cell_type": "code",
   "execution_count": 73,
   "metadata": {},
   "outputs": [
    {
     "data": {
      "text/plain": [
       "87031415611873.00     35030\n",
       "18483455048454.00     28844\n",
       "214572731257568.00    13192\n",
       "102029098096261.00     8300\n",
       "47334168288729.00      7220\n",
       "196184437994412.00     3592\n",
       "Name: mmsi, dtype: int64"
      ]
     },
     "execution_count": 73,
     "metadata": {},
     "output_type": "execute_result"
    }
   ],
   "source": [
    "trawlerdf['mmsi'].value_counts()"
   ]
  },
  {
   "cell_type": "code",
   "execution_count": 74,
   "metadata": {},
   "outputs": [
    {
     "data": {
      "text/plain": [
       "array([1.84834550e+13, 4.73341683e+13, 8.70314156e+13, 1.02029098e+14,\n",
       "       1.96184438e+14, 2.14572731e+14])"
      ]
     },
     "execution_count": 74,
     "metadata": {},
     "output_type": "execute_result"
    }
   ],
   "source": [
    "trawlers"
   ]
  },
  {
   "cell_type": "code",
   "execution_count": 75,
   "metadata": {},
   "outputs": [
    {
     "name": "stdout",
     "output_type": "stream",
     "text": [
      "file 1 complete\n",
      "file 2 complete\n",
      "file 3 complete\n",
      "file 4 complete\n",
      "file 5 complete\n",
      "file 6 complete\n"
     ]
    }
   ],
   "source": [
    "dasBoot = 1\n",
    "for boat in trawlers:\n",
    "    newboat = trawlerdf.loc[trawlerdf['mmsi'] == boat]\n",
    "    newboat.to_json(f'../data/pole_and_line/pole_and_line_{dasBoot}.json', orient='records')\n",
    "    print(f'file {dasBoot} complete')\n",
    "    dasBoot += 1"
   ]
  },
  {
   "cell_type": "code",
   "execution_count": null,
   "metadata": {},
   "outputs": [],
   "source": []
  }
 ],
 "metadata": {
  "kernelspec": {
   "display_name": "Python 3",
   "language": "python",
   "name": "python3"
  },
  "language_info": {
   "codemirror_mode": {
    "name": "ipython",
    "version": 3
   },
   "file_extension": ".py",
   "mimetype": "text/x-python",
   "name": "python",
   "nbconvert_exporter": "python",
   "pygments_lexer": "ipython3",
   "version": "3.8.3"
  }
 },
 "nbformat": 4,
 "nbformat_minor": 4
}
